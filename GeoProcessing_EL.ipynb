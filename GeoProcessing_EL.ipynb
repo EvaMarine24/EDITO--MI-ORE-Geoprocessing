{
 "cells": [
  {
   "cell_type": "markdown",
   "id": "a07430fb-c95e-40e3-abc7-3bfacfb4d06c",
   "metadata": {},
   "source": [
    "# Data Processing to Identify Suitable Offshore Renewable Energy (ORE) Development Locations"
   ]
  },
  {
   "cell_type": "markdown",
   "id": "575c4785-6eb6-4c29-98ef-22aaa235772d",
   "metadata": {},
   "source": [
    "## Summary\n",
    "This script takes shapefiles for geoprocessing to identify the most suitable ORE development locations. This is done by taking a baseline shapefile, such as bathymetry, and clipping out constraints that will result in a \"Suitability Area\" shapefile that can be mapped in a viewer, such as Terria. Any shapefile that requires a buffer, can be processed using our \"Shapefile Buffer\" script.\n",
    "\n",
    "In this example, we use the Irish data and clip bathymetry by the following constraints, according to our National Marine Planning policy:\n",
    "- Depth (>150m for floating and 80m for offshore)\n",
    "- Ferry Routes (with 5km buffer)\n",
    "- Shipwrecks (with 500m buffer)\n",
    "- Special Areas of Conservation\n",
    "- Special Protected Areas\n",
    "- Defence Restriction Zones\n",
    "\n",
    "The shapefiles  you are using are imported from S3 storage and output to S3 for inclusion in your web viewer. If you are pulling spatial data from a public Feature server, we recommend using our \"Feature to Shapefile\" notebook in this folder to query and download your feature service layer as a shapefile to S3 storage. You can also pull from an Image server and convert image to raster for analysis and save as a shapefile as we have done with our bathymetry layer in \"Image to Shapefile\"."
   ]
  },
  {
   "cell_type": "markdown",
   "id": "91a81885-1b38-4683-a98f-e3fe76c04075",
   "metadata": {},
   "source": [
    "## Data import\n",
    "It is presumed that you have imported all required files to your S3 storage bucket as a shapefile. \n",
    "\n",
    "If pulling from a Feature server, use \"Feature to Shapefile\" and apply relevant buffers using \"Shapefile Buffer\". If pulling from an Image server, you can see \"Image to Shapefile\" where we have performed clipping on our initial bathymetry layer. Use \"Shapefile_Buffer\" to apply a buffer to any contraint shapefiles if required."
   ]
  },
  {
   "cell_type": "code",
   "execution_count": null,
   "id": "4c661725-cf35-43ca-8623-48ce78af1047",
   "metadata": {},
   "outputs": [],
   "source": [
    "### Take required files from S3 ###\n",
    "\n",
    "bathymetry = \"INFOMAR-150.shp\" \n",
    "ferry_routes_buffer = \"Ferry_Routes_Buffer.shp\" #Test with buffer script\n",
    "shipwrecks_buffer = \"Shipwrecks_Buffer.shp\" # Test with buffer script\n",
    "SAC = \"Special_Area_Conservation.shp\"\n",
    "SPA = \"Special_Protected_Area.shp\"\n",
    "restricted_zones = \"Danger and Restricted areas that coincide with Marine or Coastal Areas only.shp\""
   ]
  },
  {
   "cell_type": "code",
   "execution_count": null,
   "id": "38a58622-0375-4aa8-a6c4-31f40d6ce36b",
   "metadata": {},
   "outputs": [],
   "source": [
    "upload_model_to_s3_bucket()"
   ]
  },
  {
   "cell_type": "markdown",
   "id": "d0331d98-c04d-4193-8538-906cab055cca",
   "metadata": {},
   "source": [
    "## Data analysis"
   ]
  },
  {
   "cell_type": "code",
   "execution_count": 4,
   "id": "35c5c9de-4645-44a5-8002-583f701354bb",
   "metadata": {},
   "outputs": [
    {
     "name": "stdout",
     "output_type": "stream",
     "text": [
      "Requirement already satisfied: geopandas in /opt/conda/lib/python3.12/site-packages (1.1.1)\n",
      "Requirement already satisfied: numpy>=1.24 in /opt/conda/lib/python3.12/site-packages (from geopandas) (1.26.4)\n",
      "Requirement already satisfied: pyogrio>=0.7.2 in /opt/conda/lib/python3.12/site-packages (from geopandas) (0.11.1)\n",
      "Requirement already satisfied: packaging in /opt/conda/lib/python3.12/site-packages (from geopandas) (25.0)\n",
      "Requirement already satisfied: pandas>=2.0.0 in /opt/conda/lib/python3.12/site-packages (from geopandas) (2.2.3)\n",
      "Requirement already satisfied: pyproj>=3.5.0 in /opt/conda/lib/python3.12/site-packages (from geopandas) (3.7.1)\n",
      "Requirement already satisfied: shapely>=2.0.0 in /opt/conda/lib/python3.12/site-packages (from geopandas) (2.1.1)\n",
      "Requirement already satisfied: python-dateutil>=2.8.2 in /opt/conda/lib/python3.12/site-packages (from pandas>=2.0.0->geopandas) (2.9.0.post0)\n",
      "Requirement already satisfied: pytz>=2020.1 in /opt/conda/lib/python3.12/site-packages (from pandas>=2.0.0->geopandas) (2025.2)\n",
      "Requirement already satisfied: tzdata>=2022.7 in /opt/conda/lib/python3.12/site-packages (from pandas>=2.0.0->geopandas) (2025.2)\n",
      "Requirement already satisfied: certifi in /opt/conda/lib/python3.12/site-packages (from pyogrio>=0.7.2->geopandas) (2025.6.15)\n",
      "Requirement already satisfied: six>=1.5 in /opt/conda/lib/python3.12/site-packages (from python-dateutil>=2.8.2->pandas>=2.0.0->geopandas) (1.17.0)\n"
     ]
    }
   ],
   "source": [
    "!pip install geopandas"
   ]
  },
  {
   "cell_type": "code",
   "execution_count": null,
   "id": "4d0dd985-e6ee-4504-998d-117a88d4ebbb",
   "metadata": {},
   "outputs": [],
   "source": [
    "def clip_shapefiles (shapefile_a, shapefile_b, output_file):\n",
    "    \"\"\"\n",
    "    Subtracts the geometry of shapefile B from shapefile A and saves the result.\n",
    "\n",
    "    Parameters\n",
    "    ----------\n",
    "    shapefile_a : str\n",
    "        Path to the input shapefile A.\n",
    "    shapefile_b : str\n",
    "        Path to the shapefile whose geometries will be subtracted from A.\n",
    "    output_file : str, optional\n",
    "        Path to save the resulting shapefile. Default is 'Clipped.shp'.\n",
    "\n",
    "    Returns\n",
    "    -------\n",
    "    geopandas.GeoDataFrame\n",
    "        The resulting GeoDataFrame after subtraction.\n",
    "    \"\"\"\n",
    "    # Load shapefiles\n",
    "    gdf_a = gpd.read_file(shapefile_a)\n",
    "    gdf_b = gpd.read_file(shapefile_b)\n",
    "\n",
    "    #print(\"A CRS:\", gdf_a.crs)\n",
    "    #print(\"B CRS:\", gdf_b.crs)\n",
    "\n",
    "    #if gdf_b.crs is None:\n",
    "    #    gdf_b = gdf_b.set_crs(epsg=3857)\n",
    "\n",
    "    # Align CRS\n",
    "    gdf_b = gdf_b.to_crs(gdf_a.crs)\n",
    "\n",
    "    # Dissolve B into a single geometry\n",
    "    b_union = gdf_b.unary_union\n",
    "\n",
    "    # Subtract geometries\n",
    "    gdf_a['geometry'] = gdf_a.geometry.apply(lambda geom: geom.difference(b_union))\n",
    "\n",
    "    # Remove empty geometries\n",
    "    gdf_result = gdf_a[~gdf_a.is_empty]\n",
    "\n",
    "    # Save result\n",
    "    gdf_result.to_file(output_file) ################################################################## SAVE TO S3 #####################################################################################\n",
    "    print(f\"New shapefile '{output_file}' created successfully.\") \n",
    "\n",
    "    return gdf_result\n"
   ]
  },
  {
   "cell_type": "code",
   "execution_count": null,
   "id": "aa477a30-6d2a-42d5-97e6-b521463ce0f6",
   "metadata": {},
   "outputs": [],
   "source": [
    "# Clip 1: Bathymetry without Ferry\n",
    "clip_ferry = clip_shapefiles (bathymetry, ferry_routes_buffer, bathy_no_ferry)"
   ]
  },
  {
   "cell_type": "code",
   "execution_count": null,
   "id": "03af7a97-1e56-4388-8259-92737061e44f",
   "metadata": {},
   "outputs": [],
   "source": [
    "# Clip 2: Output without shipwrecks\n",
    "clip_shipwrecks = clip_shapefiles (clip_ferry, shipwrecks_buffer, bathy_no_shipwrecks_ferry)"
   ]
  },
  {
   "cell_type": "code",
   "execution_count": null,
   "id": "8ef6cf07-3a29-47ef-822e-456ec202cbe5",
   "metadata": {},
   "outputs": [],
   "source": [
    "# Clip 3: Output without SAC\n",
    "clip_sac = clip_shapefiles (clip_shipwrecks, SAC, bathy_no_SAC_shipwrecks_ferry)"
   ]
  },
  {
   "cell_type": "code",
   "execution_count": null,
   "id": "4a2180df-d9a8-4dcd-9806-9eccdb4c40bc",
   "metadata": {},
   "outputs": [],
   "source": [
    "# Clip 4: Output without SPA\n",
    "clip_spa = clip_shapefiles (clip_sac, SPA, bathy_no_SPA_SAC_shipwrecks_ferry)"
   ]
  },
  {
   "cell_type": "code",
   "execution_count": 3,
   "id": "8a08c314-2bac-40de-8291-1216f7a5dd9b",
   "metadata": {},
   "outputs": [
    {
     "ename": "NameError",
     "evalue": "name 'clip_shapefiles' is not defined",
     "output_type": "error",
     "traceback": [
      "\u001b[31m---------------------------------------------------------------------------\u001b[39m",
      "\u001b[31mNameError\u001b[39m                                 Traceback (most recent call last)",
      "\u001b[36mCell\u001b[39m\u001b[36m \u001b[39m\u001b[32mIn[3]\u001b[39m\u001b[32m, line 2\u001b[39m\n\u001b[32m      1\u001b[39m \u001b[38;5;66;03m# Clip 5: Output without restricted zones\u001b[39;00m\n\u001b[32m----> \u001b[39m\u001b[32m2\u001b[39m clip_restricted = \u001b[43mclip_shapefiles\u001b[49m (clip_spa, restricted_zones, suitable_area)\n",
      "\u001b[31mNameError\u001b[39m: name 'clip_shapefiles' is not defined"
     ]
    }
   ],
   "source": [
    "# Clip 5: Output without restricted zones\n",
    "clip_restricted = clip_shapefiles (clip_spa, restricted_zones, suitable_area)"
   ]
  },
  {
   "cell_type": "code",
   "execution_count": null,
   "id": "704154fa-f1e8-4dca-a1f3-59068b050823",
   "metadata": {},
   "outputs": [],
   "source": []
  }
 ],
 "metadata": {
  "kernelspec": {
   "display_name": "Python 3 (ipykernel)",
   "language": "python",
   "name": "python3"
  },
  "language_info": {
   "codemirror_mode": {
    "name": "ipython",
    "version": 3
   },
   "file_extension": ".py",
   "mimetype": "text/x-python",
   "name": "python",
   "nbconvert_exporter": "python",
   "pygments_lexer": "ipython3",
   "version": "3.12.11"
  }
 },
 "nbformat": 4,
 "nbformat_minor": 5
}
