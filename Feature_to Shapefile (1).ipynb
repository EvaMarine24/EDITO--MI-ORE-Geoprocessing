{
 "cells": [
  {
   "cell_type": "markdown",
   "id": "f58579aa-8bf4-4985-af01-7dd1016eb580",
   "metadata": {},
   "source": [
    "# Featurelayer to Shapefile\n",
    "This script is to import a feature layer from a live service to your S3 instance to be processed using the GeoProcessing script."
   ]
  },
  {
   "cell_type": "code",
   "execution_count": 2,
   "id": "0edb2ff8-345b-4241-8094-27313bb21996",
   "metadata": {},
   "outputs": [
    {
     "name": "stdout",
     "output_type": "stream",
     "text": [
      "Collecting geopandas\n",
      "  Downloading geopandas-1.1.1-py3-none-any.whl.metadata (2.3 kB)\n",
      "Requirement already satisfied: numpy>=1.24 in /opt/conda/lib/python3.12/site-packages (from geopandas) (2.2.6)\n",
      "Collecting pyogrio>=0.7.2 (from geopandas)\n",
      "  Downloading pyogrio-0.11.1-cp312-cp312-manylinux_2_28_x86_64.whl.metadata (5.3 kB)\n",
      "Requirement already satisfied: packaging in /opt/conda/lib/python3.12/site-packages (from geopandas) (25.0)\n",
      "Requirement already satisfied: pandas>=2.0.0 in /opt/conda/lib/python3.12/site-packages (from geopandas) (2.3.0)\n",
      "Requirement already satisfied: pyproj>=3.5.0 in /opt/conda/lib/python3.12/site-packages (from geopandas) (3.7.1)\n",
      "Requirement already satisfied: shapely>=2.0.0 in /opt/conda/lib/python3.12/site-packages (from geopandas) (2.1.1)\n",
      "Requirement already satisfied: python-dateutil>=2.8.2 in /opt/conda/lib/python3.12/site-packages (from pandas>=2.0.0->geopandas) (2.9.0.post0)\n",
      "Requirement already satisfied: pytz>=2020.1 in /opt/conda/lib/python3.12/site-packages (from pandas>=2.0.0->geopandas) (2025.2)\n",
      "Requirement already satisfied: tzdata>=2022.7 in /opt/conda/lib/python3.12/site-packages (from pandas>=2.0.0->geopandas) (2025.2)\n",
      "Requirement already satisfied: certifi in /opt/conda/lib/python3.12/site-packages (from pyogrio>=0.7.2->geopandas) (2025.6.15)\n",
      "Requirement already satisfied: six>=1.5 in /opt/conda/lib/python3.12/site-packages (from python-dateutil>=2.8.2->pandas>=2.0.0->geopandas) (1.17.0)\n",
      "Downloading geopandas-1.1.1-py3-none-any.whl (338 kB)\n",
      "Downloading pyogrio-0.11.1-cp312-cp312-manylinux_2_28_x86_64.whl (27.7 MB)\n",
      "\u001b[2K   \u001b[90m━━━━━━━━━━━━━━━━━━━━━━━━━━━━━━━━━━━━━━━━\u001b[0m \u001b[32m27.7/27.7 MB\u001b[0m \u001b[31m41.5 MB/s\u001b[0m eta \u001b[36m0:00:00\u001b[0m00:01\u001b[0m00:01\u001b[0m\n",
      "\u001b[?25hInstalling collected packages: pyogrio, geopandas\n",
      "\u001b[2K   \u001b[90m━━━━━━━━━━━━━━━━━━━━━━━━━━━━━━━━━━━━━━━━\u001b[0m \u001b[32m2/2\u001b[0m [geopandas]/2\u001b[0m [geopandas]\n",
      "\u001b[1A\u001b[2KSuccessfully installed geopandas-1.1.1 pyogrio-0.11.1\n"
     ]
    }
   ],
   "source": [
    "!pip install geopandas"
   ]
  },
  {
   "cell_type": "code",
   "execution_count": 1,
   "id": "0498f1f0-314c-4b66-bdec-f9a451fc63fb",
   "metadata": {},
   "outputs": [
    {
     "ename": "ModuleNotFoundError",
     "evalue": "No module named 'geopandas'",
     "output_type": "error",
     "traceback": [
      "\u001b[31m---------------------------------------------------------------------------\u001b[39m",
      "\u001b[31mModuleNotFoundError\u001b[39m                       Traceback (most recent call last)",
      "\u001b[36mCell\u001b[39m\u001b[36m \u001b[39m\u001b[32mIn[1]\u001b[39m\u001b[32m, line 1\u001b[39m\n\u001b[32m----> \u001b[39m\u001b[32m1\u001b[39m \u001b[38;5;28;01mimport\u001b[39;00m\u001b[38;5;250m \u001b[39m\u001b[34;01mgeopandas\u001b[39;00m\u001b[38;5;250m \u001b[39m\u001b[38;5;28;01mas\u001b[39;00m\u001b[38;5;250m \u001b[39m\u001b[34;01mgpd\u001b[39;00m\n\u001b[32m      2\u001b[39m \u001b[38;5;28;01mimport\u001b[39;00m\u001b[38;5;250m \u001b[39m\u001b[34;01mrequests\u001b[39;00m\n\u001b[32m      3\u001b[39m \u001b[38;5;28;01mfrom\u001b[39;00m\u001b[38;5;250m \u001b[39m\u001b[34;01mshapely\u001b[39;00m\u001b[38;5;250m \u001b[39m\u001b[38;5;28;01mimport\u001b[39;00m geometry\n",
      "\u001b[31mModuleNotFoundError\u001b[39m: No module named 'geopandas'"
     ]
    }
   ],
   "source": [
    "import geopandas as gpd\n",
    "import requests\n",
    "from shapely import geometry\n",
    "import os\n",
    "import json\n",
    "\n",
    "# === CONFIGURATION ===\n",
    "FEATURE_SERVICE_URL = \"XXXXXXXX\"  ### replace this with https://services-eu1.arcgis.com/jD89j6JX786MpRBU/ArcGIS/rest/services/NMPF_10_Defense_And_Security/FeatureServer\n",
    "OUTPUT_FOLDER = \"XXXXX\"\n",
    "OUTPUT_FILE = \"XXXXXX\" ################# S3\n",
    "\n",
    "os.makedirs(OUTPUT_FOLDER, exist_ok=True)\n",
    "OUTPUT_PATH = os.path.join(OUTPUT_FOLDER, OUTPUT_FILE)\n",
    "\n",
    "# === STEP 1: Try GeoJSON format ===\n",
    "print(\"🔹 Querying feature service (trying GeoJSON)...\")\n",
    "params_geojson = {\n",
    "    \"where\": \"1=1\",\n",
    "    \"outFields\": \"*\",\n",
    "    \"f\": \"geojson\"\n",
    "}\n",
    "response = requests.get(FEATURE_SERVICE_URL, params=params_geojson)\n",
    "\n",
    "if response.status_code != 200 or not response.text.strip().startswith(\"{\"):\n",
    "    print(\"⚠️ GeoJSON request failed or invalid; trying Esri JSON instead...\")\n",
    "    params_esri = {\n",
    "        \"where\": \"1=1\",\n",
    "        \"outFields\": \"*\",\n",
    "        \"f\": \"json\",\n",
    "        \"outSR\": 4326\n",
    "    }\n",
    "    response = requests.get(FEATURE_SERVICE_URL, params=params_esri)\n",
    "    data = response.json()\n",
    "\n",
    "    if \"features\" not in data:\n",
    "        print(\"❌ The service didn’t return a 'features' field — please check the URL.\")\n",
    "        print(json.dumps(data, indent=2))\n",
    "        raise SystemExit()\n",
    "\n",
    "    # Esri JSON → GeoDataFrame\n",
    "    print(\"🔹 Converting from Esri JSON...\")\n",
    "    features = []\n",
    "    for feat in data[\"features\"]:\n",
    "        geom = geometry.shape(feat[\"geometry\"])\n",
    "        attrs = feat.get(\"attributes\", {})  # safer access\n",
    "        features.append({**attrs, \"geometry\": geom})\n",
    "\n",
    "    gdf = gpd.GeoDataFrame(features, crs=\"EPSG:4326\")\n",
    "\n",
    "else:\n",
    "    # GeoJSON path\n",
    "    print(\"🔹 Converting from GeoJSON...\")\n",
    "    data = response.json()\n",
    "    gdf = gpd.GeoDataFrame.from_features(data[\"features\"])\n",
    "\n",
    "    # Set CRS safely\n",
    "    if gdf.crs is None:\n",
    "        gdf.set_crs(epsg=3857, inplace=True) ##### This may be 4326 if you're layer is on WGS84, check your ESRI WID.\n",
    "\n",
    "# === SAVE SHAPEFILE ===\n",
    "print(f\"💾 Saving shapefile to {OUTPUT_PATH} ...\")\n",
    "gdf.to_file(OUTPUT_PATH)\n",
    "print(\"✅ Shapefile exported successfully!\")\n",
    "print(\"CRS:\", gdf.crs)"
   ]
  },
  {
   "cell_type": "markdown",
   "id": "af13dc80-dc7b-4318-85e3-e6654d383ead",
   "metadata": {},
   "source": [
    "## Import to S3     "
   ]
  },
  {
   "cell_type": "code",
   "execution_count": null,
   "id": "4dd65dd4",
   "metadata": {},
   "outputs": [],
   "source": [
    "import os\n",
    "\n",
    "dir_output = os.path.abspath(pwd) #f'./data'\n",
    "print(dir_output)\n",
    "\n",
    "from upload_model import upload_model_to_s3_bucket\n",
    "\n",
    "upload_model_to_s3_bucket(dir_output)"
   ]
  }
 ],
 "metadata": {
  "kernelspec": {
   "display_name": "Python 3 (ipykernel)",
   "language": "python",
   "name": "python3"
  },
  "language_info": {
   "codemirror_mode": {
    "name": "ipython",
    "version": 3
   },
   "file_extension": ".py",
   "mimetype": "text/x-python",
   "name": "python",
   "nbconvert_exporter": "python",
   "pygments_lexer": "ipython3",
   "version": "3.12.11"
  }
 },
 "nbformat": 4,
 "nbformat_minor": 5
}
